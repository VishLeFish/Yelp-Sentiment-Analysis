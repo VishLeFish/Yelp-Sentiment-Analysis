{
 "cells": [
  {
   "cell_type": "markdown",
   "metadata": {},
   "source": [
    "# A Machine Learning Analysis of Virginia Restaurant Reviews: Future Failure or Potential Phenomenon?\n",
    "## Using Sentiment Analysis and Machine Learning to Forecast Restaurant Closure.\n",
    "## Rahul Zalkikar - University of Virginia\n"
   ]
  },
  {
   "cell_type": "code",
   "execution_count": 69,
   "metadata": {},
   "outputs": [
    {
     "name": "stderr",
     "output_type": "stream",
     "text": [
      "[nltk_data] Downloading package punkt to\n",
      "[nltk_data]     C:\\Users\\rayzc\\AppData\\Roaming\\nltk_data...\n",
      "[nltk_data]   Package punkt is already up-to-date!\n",
      "[nltk_data] Downloading package stopwords to\n",
      "[nltk_data]     C:\\Users\\rayzc\\AppData\\Roaming\\nltk_data...\n",
      "[nltk_data]   Package stopwords is already up-to-date!\n"
     ]
    },
    {
     "data": {
      "text/plain": [
       "True"
      ]
     },
     "execution_count": 69,
     "metadata": {},
     "output_type": "execute_result"
    }
   ],
   "source": [
    "# Imports\n",
    "import pandas as pd\n",
    "import re\n",
    "import seaborn\n",
    "import string\n",
    "import matplotlib.pyplot as plt\n",
    "import nltk\n",
    "from nltk.corpus import stopwords\n",
    "from nltk.stem import PorterStemmer \n",
    "from nltk.tokenize import word_tokenize \n",
    "from sklearn.feature_extraction.text import CountVectorizer\n",
    "from sklearn.model_selection import train_test_split, cross_val_score, GridSearchCV, cross_validate\n",
    "from sklearn.metrics import confusion_matrix, accuracy_score, roc_auc_score, roc_curve, precision_score, recall_score, f1_score, auc, classification_report\n",
    "from sklearn.svm import SVC\n",
    "from sklearn import naive_bayes\n",
    "nltk.download('punkt')\n",
    "nltk.download('stopwords')"
   ]
  },
  {
   "cell_type": "code",
   "execution_count": 3,
   "metadata": {},
   "outputs": [
    {
     "data": {
      "text/html": [
       "<div>\n",
       "<style scoped>\n",
       "    .dataframe tbody tr th:only-of-type {\n",
       "        vertical-align: middle;\n",
       "    }\n",
       "\n",
       "    .dataframe tbody tr th {\n",
       "        vertical-align: top;\n",
       "    }\n",
       "\n",
       "    .dataframe thead th {\n",
       "        text-align: right;\n",
       "    }\n",
       "</style>\n",
       "<table border=\"1\" class=\"dataframe\">\n",
       "  <thead>\n",
       "    <tr style=\"text-align: right;\">\n",
       "      <th></th>\n",
       "      <th>business_id</th>\n",
       "      <th>stars</th>\n",
       "      <th>review_count</th>\n",
       "      <th>is_open</th>\n",
       "      <th>categories</th>\n",
       "    </tr>\n",
       "  </thead>\n",
       "  <tbody>\n",
       "    <tr>\n",
       "      <th>0</th>\n",
       "      <td>FYWN1wneV18bWNgQjJ2GNg</td>\n",
       "      <td>4.0</td>\n",
       "      <td>22</td>\n",
       "      <td>1</td>\n",
       "      <td>Dentists;General Dentistry;Health &amp; Medical;Or...</td>\n",
       "    </tr>\n",
       "    <tr>\n",
       "      <th>1</th>\n",
       "      <td>He-G7vWjzVUysIKrfNbPUQ</td>\n",
       "      <td>3.0</td>\n",
       "      <td>11</td>\n",
       "      <td>1</td>\n",
       "      <td>Hair Stylists;Hair Salons;Men's Hair Salons;Bl...</td>\n",
       "    </tr>\n",
       "    <tr>\n",
       "      <th>2</th>\n",
       "      <td>KQPW8lFf1y5BT2MxiSZ3QA</td>\n",
       "      <td>1.5</td>\n",
       "      <td>18</td>\n",
       "      <td>1</td>\n",
       "      <td>Departments of Motor Vehicles;Public Services ...</td>\n",
       "    </tr>\n",
       "    <tr>\n",
       "      <th>3</th>\n",
       "      <td>8DShNS-LuFqpEWIp0HxijA</td>\n",
       "      <td>3.0</td>\n",
       "      <td>9</td>\n",
       "      <td>0</td>\n",
       "      <td>Sporting Goods;Shopping</td>\n",
       "    </tr>\n",
       "    <tr>\n",
       "      <th>4</th>\n",
       "      <td>PfOCPjBrlQAnz__NXj9h_w</td>\n",
       "      <td>3.5</td>\n",
       "      <td>116</td>\n",
       "      <td>1</td>\n",
       "      <td>American (New);Nightlife;Bars;Sandwiches;Ameri...</td>\n",
       "    </tr>\n",
       "  </tbody>\n",
       "</table>\n",
       "</div>"
      ],
      "text/plain": [
       "              business_id  stars  review_count  is_open  \\\n",
       "0  FYWN1wneV18bWNgQjJ2GNg    4.0            22        1   \n",
       "1  He-G7vWjzVUysIKrfNbPUQ    3.0            11        1   \n",
       "2  KQPW8lFf1y5BT2MxiSZ3QA    1.5            18        1   \n",
       "3  8DShNS-LuFqpEWIp0HxijA    3.0             9        0   \n",
       "4  PfOCPjBrlQAnz__NXj9h_w    3.5           116        1   \n",
       "\n",
       "                                          categories  \n",
       "0  Dentists;General Dentistry;Health & Medical;Or...  \n",
       "1  Hair Stylists;Hair Salons;Men's Hair Salons;Bl...  \n",
       "2  Departments of Motor Vehicles;Public Services ...  \n",
       "3                            Sporting Goods;Shopping  \n",
       "4  American (New);Nightlife;Bars;Sandwiches;Ameri...  "
      ]
     },
     "execution_count": 3,
     "metadata": {},
     "output_type": "execute_result"
    }
   ],
   "source": [
    "yelp_businesses = pd.read_csv(r'C:\\Users\\rayzc\\Downloads\\yelp_business_data.csv')\n",
    "yelp_reviews = pd.read_csv(r'C:\\Users\\rayzc\\Downloads\\yelp_review_data.csv')\n",
    "yelp_businesses = yelp_businesses.drop(columns=['name','neighborhood','address','city','state','postal_code','latitude','longitude'])\n",
    "yelp_businesses.head()"
   ]
  },
  {
   "cell_type": "code",
   "execution_count": 4,
   "metadata": {},
   "outputs": [
    {
     "data": {
      "text/html": [
       "<div>\n",
       "<style scoped>\n",
       "    .dataframe tbody tr th:only-of-type {\n",
       "        vertical-align: middle;\n",
       "    }\n",
       "\n",
       "    .dataframe tbody tr th {\n",
       "        vertical-align: top;\n",
       "    }\n",
       "\n",
       "    .dataframe thead th {\n",
       "        text-align: right;\n",
       "    }\n",
       "</style>\n",
       "<table border=\"1\" class=\"dataframe\">\n",
       "  <thead>\n",
       "    <tr style=\"text-align: right;\">\n",
       "      <th></th>\n",
       "      <th>business_id</th>\n",
       "      <th>stars</th>\n",
       "      <th>review_count</th>\n",
       "      <th>is_open</th>\n",
       "      <th>categories</th>\n",
       "      <th>is_restaurant</th>\n",
       "    </tr>\n",
       "  </thead>\n",
       "  <tbody>\n",
       "    <tr>\n",
       "      <th>4</th>\n",
       "      <td>PfOCPjBrlQAnz__NXj9h_w</td>\n",
       "      <td>3.5</td>\n",
       "      <td>116</td>\n",
       "      <td>1</td>\n",
       "      <td>American (New);Nightlife;Bars;Sandwiches;Ameri...</td>\n",
       "      <td>True</td>\n",
       "    </tr>\n",
       "    <tr>\n",
       "      <th>5</th>\n",
       "      <td>o9eMRCWt5PkpLDE0gOPtcQ</td>\n",
       "      <td>4.0</td>\n",
       "      <td>5</td>\n",
       "      <td>1</td>\n",
       "      <td>Italian;Restaurants</td>\n",
       "      <td>True</td>\n",
       "    </tr>\n",
       "    <tr>\n",
       "      <th>10</th>\n",
       "      <td>XOSRcvtaKc_Q5H1SAzN20A</td>\n",
       "      <td>4.5</td>\n",
       "      <td>3</td>\n",
       "      <td>0</td>\n",
       "      <td>Breakfast &amp; Brunch;Gluten-Free;Coffee &amp; Tea;Fo...</td>\n",
       "      <td>True</td>\n",
       "    </tr>\n",
       "    <tr>\n",
       "      <th>14</th>\n",
       "      <td>fNMVV_ZX7CJSDWQGdOM8Nw</td>\n",
       "      <td>3.5</td>\n",
       "      <td>7</td>\n",
       "      <td>1</td>\n",
       "      <td>Restaurants;American (Traditional)</td>\n",
       "      <td>True</td>\n",
       "    </tr>\n",
       "    <tr>\n",
       "      <th>15</th>\n",
       "      <td>l09JfMeQ6ynYs5MCJtrcmQ</td>\n",
       "      <td>3.0</td>\n",
       "      <td>12</td>\n",
       "      <td>0</td>\n",
       "      <td>Italian;French;Restaurants</td>\n",
       "      <td>True</td>\n",
       "    </tr>\n",
       "  </tbody>\n",
       "</table>\n",
       "</div>"
      ],
      "text/plain": [
       "               business_id  stars  review_count  is_open  \\\n",
       "4   PfOCPjBrlQAnz__NXj9h_w    3.5           116        1   \n",
       "5   o9eMRCWt5PkpLDE0gOPtcQ    4.0             5        1   \n",
       "10  XOSRcvtaKc_Q5H1SAzN20A    4.5             3        0   \n",
       "14  fNMVV_ZX7CJSDWQGdOM8Nw    3.5             7        1   \n",
       "15  l09JfMeQ6ynYs5MCJtrcmQ    3.0            12        0   \n",
       "\n",
       "                                           categories  is_restaurant  \n",
       "4   American (New);Nightlife;Bars;Sandwiches;Ameri...           True  \n",
       "5                                 Italian;Restaurants           True  \n",
       "10  Breakfast & Brunch;Gluten-Free;Coffee & Tea;Fo...           True  \n",
       "14                 Restaurants;American (Traditional)           True  \n",
       "15                         Italian;French;Restaurants           True  "
      ]
     },
     "execution_count": 4,
     "metadata": {},
     "output_type": "execute_result"
    }
   ],
   "source": [
    "yelp_businesses['is_restaurant'] = [bool(re.search(\"Restaurant\", i)) for i in yelp_businesses.categories]\n",
    "yelp_restaurants = yelp_businesses.loc[yelp_businesses['is_restaurant'] == True]\n",
    "yelp_restaurants.head()"
   ]
  },
  {
   "cell_type": "code",
   "execution_count": 5,
   "metadata": {},
   "outputs": [
    {
     "data": {
      "text/html": [
       "<div>\n",
       "<style scoped>\n",
       "    .dataframe tbody tr th:only-of-type {\n",
       "        vertical-align: middle;\n",
       "    }\n",
       "\n",
       "    .dataframe tbody tr th {\n",
       "        vertical-align: top;\n",
       "    }\n",
       "\n",
       "    .dataframe thead th {\n",
       "        text-align: right;\n",
       "    }\n",
       "</style>\n",
       "<table border=\"1\" class=\"dataframe\">\n",
       "  <thead>\n",
       "    <tr style=\"text-align: right;\">\n",
       "      <th></th>\n",
       "      <th>review_id</th>\n",
       "      <th>user_id</th>\n",
       "      <th>business_id</th>\n",
       "      <th>stars_x</th>\n",
       "      <th>date</th>\n",
       "      <th>text</th>\n",
       "      <th>useful</th>\n",
       "      <th>funny</th>\n",
       "      <th>cool</th>\n",
       "      <th>stars_y</th>\n",
       "      <th>review_count</th>\n",
       "      <th>is_open</th>\n",
       "      <th>categories</th>\n",
       "      <th>is_restaurant</th>\n",
       "    </tr>\n",
       "  </thead>\n",
       "  <tbody>\n",
       "    <tr>\n",
       "      <th>0</th>\n",
       "      <td>vkVSCC7xljjrAI4UGfnKEQ</td>\n",
       "      <td>bv2nCi5Qv5vroFiqKGopiw</td>\n",
       "      <td>AEx2SYEUJmTxVVB18LlCwA</td>\n",
       "      <td>5</td>\n",
       "      <td>2016-05-28</td>\n",
       "      <td>Super simple place but amazing nonetheless. It...</td>\n",
       "      <td>0</td>\n",
       "      <td>0</td>\n",
       "      <td>0</td>\n",
       "      <td>4.0</td>\n",
       "      <td>84</td>\n",
       "      <td>1</td>\n",
       "      <td>Diners;Food;Restaurants;Delis</td>\n",
       "      <td>True</td>\n",
       "    </tr>\n",
       "    <tr>\n",
       "      <th>1</th>\n",
       "      <td>vm1b1keOzwHjtGZEPPuYXA</td>\n",
       "      <td>xYciRtVZ1PW4IxSX4oJ1aw</td>\n",
       "      <td>AEx2SYEUJmTxVVB18LlCwA</td>\n",
       "      <td>5</td>\n",
       "      <td>2016-02-22</td>\n",
       "      <td>*The shop was featured on Mind of a Chef with ...</td>\n",
       "      <td>4</td>\n",
       "      <td>3</td>\n",
       "      <td>4</td>\n",
       "      <td>4.0</td>\n",
       "      <td>84</td>\n",
       "      <td>1</td>\n",
       "      <td>Diners;Food;Restaurants;Delis</td>\n",
       "      <td>True</td>\n",
       "    </tr>\n",
       "    <tr>\n",
       "      <th>2</th>\n",
       "      <td>SXwA9KZ-Nc_hMARk_3cJ7g</td>\n",
       "      <td>5Ymfsf9fAYz-Ds_p0xawVQ</td>\n",
       "      <td>AEx2SYEUJmTxVVB18LlCwA</td>\n",
       "      <td>5</td>\n",
       "      <td>2013-03-29</td>\n",
       "      <td>As its name suggests, Wilensky's is a lunch co...</td>\n",
       "      <td>9</td>\n",
       "      <td>0</td>\n",
       "      <td>3</td>\n",
       "      <td>4.0</td>\n",
       "      <td>84</td>\n",
       "      <td>1</td>\n",
       "      <td>Diners;Food;Restaurants;Delis</td>\n",
       "      <td>True</td>\n",
       "    </tr>\n",
       "    <tr>\n",
       "      <th>3</th>\n",
       "      <td>jUzausdZ_ujqe_n8BlBj-g</td>\n",
       "      <td>DVOOF0Z627DyrZ4XKQbTgA</td>\n",
       "      <td>AEx2SYEUJmTxVVB18LlCwA</td>\n",
       "      <td>5</td>\n",
       "      <td>2017-08-08</td>\n",
       "      <td>Stopped by for the Wilensky's Special, loved i...</td>\n",
       "      <td>0</td>\n",
       "      <td>0</td>\n",
       "      <td>0</td>\n",
       "      <td>4.0</td>\n",
       "      <td>84</td>\n",
       "      <td>1</td>\n",
       "      <td>Diners;Food;Restaurants;Delis</td>\n",
       "      <td>True</td>\n",
       "    </tr>\n",
       "    <tr>\n",
       "      <th>4</th>\n",
       "      <td>oCRDwF3tszAkeszSfxwthg</td>\n",
       "      <td>5JoKz3mU42Cp906KRXDwJw</td>\n",
       "      <td>AEx2SYEUJmTxVVB18LlCwA</td>\n",
       "      <td>4</td>\n",
       "      <td>2009-01-17</td>\n",
       "      <td>I have to admit, I am a fan. Just entering the...</td>\n",
       "      <td>4</td>\n",
       "      <td>0</td>\n",
       "      <td>1</td>\n",
       "      <td>4.0</td>\n",
       "      <td>84</td>\n",
       "      <td>1</td>\n",
       "      <td>Diners;Food;Restaurants;Delis</td>\n",
       "      <td>True</td>\n",
       "    </tr>\n",
       "  </tbody>\n",
       "</table>\n",
       "</div>"
      ],
      "text/plain": [
       "                review_id                 user_id             business_id  \\\n",
       "0  vkVSCC7xljjrAI4UGfnKEQ  bv2nCi5Qv5vroFiqKGopiw  AEx2SYEUJmTxVVB18LlCwA   \n",
       "1  vm1b1keOzwHjtGZEPPuYXA  xYciRtVZ1PW4IxSX4oJ1aw  AEx2SYEUJmTxVVB18LlCwA   \n",
       "2  SXwA9KZ-Nc_hMARk_3cJ7g  5Ymfsf9fAYz-Ds_p0xawVQ  AEx2SYEUJmTxVVB18LlCwA   \n",
       "3  jUzausdZ_ujqe_n8BlBj-g  DVOOF0Z627DyrZ4XKQbTgA  AEx2SYEUJmTxVVB18LlCwA   \n",
       "4  oCRDwF3tszAkeszSfxwthg  5JoKz3mU42Cp906KRXDwJw  AEx2SYEUJmTxVVB18LlCwA   \n",
       "\n",
       "   stars_x        date                                               text  \\\n",
       "0        5  2016-05-28  Super simple place but amazing nonetheless. It...   \n",
       "1        5  2016-02-22  *The shop was featured on Mind of a Chef with ...   \n",
       "2        5  2013-03-29  As its name suggests, Wilensky's is a lunch co...   \n",
       "3        5  2017-08-08  Stopped by for the Wilensky's Special, loved i...   \n",
       "4        4  2009-01-17  I have to admit, I am a fan. Just entering the...   \n",
       "\n",
       "   useful  funny  cool  stars_y  review_count  is_open  \\\n",
       "0       0      0     0      4.0            84        1   \n",
       "1       4      3     4      4.0            84        1   \n",
       "2       9      0     3      4.0            84        1   \n",
       "3       0      0     0      4.0            84        1   \n",
       "4       4      0     1      4.0            84        1   \n",
       "\n",
       "                      categories  is_restaurant  \n",
       "0  Diners;Food;Restaurants;Delis           True  \n",
       "1  Diners;Food;Restaurants;Delis           True  \n",
       "2  Diners;Food;Restaurants;Delis           True  \n",
       "3  Diners;Food;Restaurants;Delis           True  \n",
       "4  Diners;Food;Restaurants;Delis           True  "
      ]
     },
     "execution_count": 5,
     "metadata": {},
     "output_type": "execute_result"
    }
   ],
   "source": [
    "yelp_data = pd.merge(yelp_reviews, yelp_restaurants, on='business_id')\n",
    "yelp_data.head()"
   ]
  },
  {
   "cell_type": "code",
   "execution_count": 6,
   "metadata": {},
   "outputs": [
    {
     "data": {
      "text/plain": [
       "<matplotlib.axes._subplots.AxesSubplot at 0x2005b169eb8>"
      ]
     },
     "execution_count": 6,
     "metadata": {},
     "output_type": "execute_result"
    },
    {
     "data": {
      "image/png": "[encoded data removed]",
      "text/plain": [
       "<Figure size 432x288 with 1 Axes>"
      ]
     },
     "metadata": {
      "needs_background": "light"
     },
     "output_type": "display_data"
    }
   ],
   "source": [
    "seaborn.countplot(x='stars_x',data=yelp_data)"
   ]
  },
  {
   "cell_type": "markdown",
   "metadata": {},
   "source": [
    "This indicates that most reviews are relatively positive (4 or 5), and that bad reviews are less common."
   ]
  },
  {
   "cell_type": "code",
   "execution_count": 7,
   "metadata": {},
   "outputs": [
    {
     "data": {
      "text/plain": [
       "<matplotlib.axes._subplots.AxesSubplot at 0x2005fbee898>"
      ]
     },
     "execution_count": 7,
     "metadata": {},
     "output_type": "execute_result"
    },
    {
     "data": {
      "image/png": "[encoded data removed]",
      "text/plain": [
       "<Figure size 432x288 with 1 Axes>"
      ]
     },
     "metadata": {
      "needs_background": "light"
     },
     "output_type": "display_data"
    }
   ],
   "source": [
    "seaborn.countplot(x='stars_x',data=yelp_data[yelp_data['is_open'] == 1])"
   ]
  },
  {
   "cell_type": "code",
   "execution_count": 8,
   "metadata": {},
   "outputs": [
    {
     "data": {
      "text/plain": [
       "<matplotlib.axes._subplots.AxesSubplot at 0x2005fbb1cf8>"
      ]
     },
     "execution_count": 8,
     "metadata": {},
     "output_type": "execute_result"
    },
    {
     "data": {
      "image/png": "[encoded data removed]",
      "text/plain": [
       "<Figure size 432x288 with 1 Axes>"
      ]
     },
     "metadata": {
      "needs_background": "light"
     },
     "output_type": "display_data"
    }
   ],
   "source": [
    "seaborn.countplot(x='stars_x',data=yelp_data[yelp_data['is_open'] == 0])"
   ]
  },
  {
   "cell_type": "markdown",
   "metadata": {},
   "source": [
    "The similar distribution of star counts seen through these bar charts indicates that most reviews are relatively positive (4 or 5) for both closed (failed) and open (successful) restaurants. Therefore, it seems as though star counts for reviews might not be a useful feature for predicting whether a restaurant will close in the future. "
   ]
  },
  {
   "cell_type": "code",
   "execution_count": 9,
   "metadata": {},
   "outputs": [
    {
     "data": {
      "text/plain": [
       "<matplotlib.axes._subplots.AxesSubplot at 0x2005f097b38>"
      ]
     },
     "execution_count": 9,
     "metadata": {},
     "output_type": "execute_result"
    },
    {
     "data": {
      "image/png": "[encoded data removed]",
      "text/plain": [
       "<Figure size 432x288 with 1 Axes>"
      ]
     },
     "metadata": {
      "needs_background": "light"
     },
     "output_type": "display_data"
    }
   ],
   "source": [
    "seaborn.countplot(x='is_open',data=yelp_data)"
   ]
  },
  {
   "cell_type": "markdown",
   "metadata": {},
   "source": [
    "This indicates that appropriate class weighting will be needed in SVM, as there are many more open businesses than closed businesses in our dataset."
   ]
  },
  {
   "cell_type": "code",
   "execution_count": 10,
   "metadata": {},
   "outputs": [
    {
     "data": {
      "text/plain": [
       "[<matplotlib.lines.Line2D at 0x2005ec7fb38>]"
      ]
     },
     "execution_count": 10,
     "metadata": {},
     "output_type": "execute_result"
    },
    {
     "data": {
      "image/png": "[encoded data removed]",
      "text/plain": [
       "<Figure size 432x288 with 1 Axes>"
      ]
     },
     "metadata": {
      "needs_background": "light"
     },
     "output_type": "display_data"
    }
   ],
   "source": [
    "plt.plot(yelp_restaurants['review_count'])"
   ]
  },
  {
   "cell_type": "markdown",
   "metadata": {},
   "source": [
    "This indicates that some businesses have a lot more reviews than most others, and skew the average number of reviews per business. This could be good (more data about local businesses in general) or bad (biased data that caters to certain local businesses which have a lot of reviews). "
   ]
  },
  {
   "cell_type": "code",
   "execution_count": 11,
   "metadata": {},
   "outputs": [
    {
     "data": {
      "text/html": [
       "<div>\n",
       "<style scoped>\n",
       "    .dataframe tbody tr th:only-of-type {\n",
       "        vertical-align: middle;\n",
       "    }\n",
       "\n",
       "    .dataframe tbody tr th {\n",
       "        vertical-align: top;\n",
       "    }\n",
       "\n",
       "    .dataframe thead th {\n",
       "        text-align: right;\n",
       "    }\n",
       "</style>\n",
       "<table border=\"1\" class=\"dataframe\">\n",
       "  <thead>\n",
       "    <tr style=\"text-align: right;\">\n",
       "      <th></th>\n",
       "      <th>review_id</th>\n",
       "      <th>user_id</th>\n",
       "      <th>business_id</th>\n",
       "      <th>stars_x</th>\n",
       "      <th>date</th>\n",
       "      <th>text</th>\n",
       "      <th>useful</th>\n",
       "      <th>funny</th>\n",
       "      <th>cool</th>\n",
       "      <th>stars_y</th>\n",
       "      <th>review_count</th>\n",
       "      <th>is_open</th>\n",
       "      <th>categories</th>\n",
       "      <th>is_restaurant</th>\n",
       "      <th>length</th>\n",
       "    </tr>\n",
       "  </thead>\n",
       "  <tbody>\n",
       "    <tr>\n",
       "      <th>0</th>\n",
       "      <td>vkVSCC7xljjrAI4UGfnKEQ</td>\n",
       "      <td>bv2nCi5Qv5vroFiqKGopiw</td>\n",
       "      <td>AEx2SYEUJmTxVVB18LlCwA</td>\n",
       "      <td>5</td>\n",
       "      <td>2016-05-28</td>\n",
       "      <td>Super simple place but amazing nonetheless. It...</td>\n",
       "      <td>0</td>\n",
       "      <td>0</td>\n",
       "      <td>0</td>\n",
       "      <td>4.0</td>\n",
       "      <td>84</td>\n",
       "      <td>1</td>\n",
       "      <td>Diners;Food;Restaurants;Delis</td>\n",
       "      <td>True</td>\n",
       "      <td>213</td>\n",
       "    </tr>\n",
       "    <tr>\n",
       "      <th>1</th>\n",
       "      <td>vm1b1keOzwHjtGZEPPuYXA</td>\n",
       "      <td>xYciRtVZ1PW4IxSX4oJ1aw</td>\n",
       "      <td>AEx2SYEUJmTxVVB18LlCwA</td>\n",
       "      <td>5</td>\n",
       "      <td>2016-02-22</td>\n",
       "      <td>*The shop was featured on Mind of a Chef with ...</td>\n",
       "      <td>4</td>\n",
       "      <td>3</td>\n",
       "      <td>4</td>\n",
       "      <td>4.0</td>\n",
       "      <td>84</td>\n",
       "      <td>1</td>\n",
       "      <td>Diners;Food;Restaurants;Delis</td>\n",
       "      <td>True</td>\n",
       "      <td>998</td>\n",
       "    </tr>\n",
       "    <tr>\n",
       "      <th>2</th>\n",
       "      <td>SXwA9KZ-Nc_hMARk_3cJ7g</td>\n",
       "      <td>5Ymfsf9fAYz-Ds_p0xawVQ</td>\n",
       "      <td>AEx2SYEUJmTxVVB18LlCwA</td>\n",
       "      <td>5</td>\n",
       "      <td>2013-03-29</td>\n",
       "      <td>As its name suggests, Wilensky's is a lunch co...</td>\n",
       "      <td>9</td>\n",
       "      <td>0</td>\n",
       "      <td>3</td>\n",
       "      <td>4.0</td>\n",
       "      <td>84</td>\n",
       "      <td>1</td>\n",
       "      <td>Diners;Food;Restaurants;Delis</td>\n",
       "      <td>True</td>\n",
       "      <td>794</td>\n",
       "    </tr>\n",
       "    <tr>\n",
       "      <th>3</th>\n",
       "      <td>jUzausdZ_ujqe_n8BlBj-g</td>\n",
       "      <td>DVOOF0Z627DyrZ4XKQbTgA</td>\n",
       "      <td>AEx2SYEUJmTxVVB18LlCwA</td>\n",
       "      <td>5</td>\n",
       "      <td>2017-08-08</td>\n",
       "      <td>Stopped by for the Wilensky's Special, loved i...</td>\n",
       "      <td>0</td>\n",
       "      <td>0</td>\n",
       "      <td>0</td>\n",
       "      <td>4.0</td>\n",
       "      <td>84</td>\n",
       "      <td>1</td>\n",
       "      <td>Diners;Food;Restaurants;Delis</td>\n",
       "      <td>True</td>\n",
       "      <td>270</td>\n",
       "    </tr>\n",
       "    <tr>\n",
       "      <th>4</th>\n",
       "      <td>oCRDwF3tszAkeszSfxwthg</td>\n",
       "      <td>5JoKz3mU42Cp906KRXDwJw</td>\n",
       "      <td>AEx2SYEUJmTxVVB18LlCwA</td>\n",
       "      <td>4</td>\n",
       "      <td>2009-01-17</td>\n",
       "      <td>I have to admit, I am a fan. Just entering the...</td>\n",
       "      <td>4</td>\n",
       "      <td>0</td>\n",
       "      <td>1</td>\n",
       "      <td>4.0</td>\n",
       "      <td>84</td>\n",
       "      <td>1</td>\n",
       "      <td>Diners;Food;Restaurants;Delis</td>\n",
       "      <td>True</td>\n",
       "      <td>863</td>\n",
       "    </tr>\n",
       "  </tbody>\n",
       "</table>\n",
       "</div>"
      ],
      "text/plain": [
       "                review_id                 user_id             business_id  \\\n",
       "0  vkVSCC7xljjrAI4UGfnKEQ  bv2nCi5Qv5vroFiqKGopiw  AEx2SYEUJmTxVVB18LlCwA   \n",
       "1  vm1b1keOzwHjtGZEPPuYXA  xYciRtVZ1PW4IxSX4oJ1aw  AEx2SYEUJmTxVVB18LlCwA   \n",
       "2  SXwA9KZ-Nc_hMARk_3cJ7g  5Ymfsf9fAYz-Ds_p0xawVQ  AEx2SYEUJmTxVVB18LlCwA   \n",
       "3  jUzausdZ_ujqe_n8BlBj-g  DVOOF0Z627DyrZ4XKQbTgA  AEx2SYEUJmTxVVB18LlCwA   \n",
       "4  oCRDwF3tszAkeszSfxwthg  5JoKz3mU42Cp906KRXDwJw  AEx2SYEUJmTxVVB18LlCwA   \n",
       "\n",
       "   stars_x        date                                               text  \\\n",
       "0        5  2016-05-28  Super simple place but amazing nonetheless. It...   \n",
       "1        5  2016-02-22  *The shop was featured on Mind of a Chef with ...   \n",
       "2        5  2013-03-29  As its name suggests, Wilensky's is a lunch co...   \n",
       "3        5  2017-08-08  Stopped by for the Wilensky's Special, loved i...   \n",
       "4        4  2009-01-17  I have to admit, I am a fan. Just entering the...   \n",
       "\n",
       "   useful  funny  cool  stars_y  review_count  is_open  \\\n",
       "0       0      0     0      4.0            84        1   \n",
       "1       4      3     4      4.0            84        1   \n",
       "2       9      0     3      4.0            84        1   \n",
       "3       0      0     0      4.0            84        1   \n",
       "4       4      0     1      4.0            84        1   \n",
       "\n",
       "                      categories  is_restaurant  length  \n",
       "0  Diners;Food;Restaurants;Delis           True     213  \n",
       "1  Diners;Food;Restaurants;Delis           True     998  \n",
       "2  Diners;Food;Restaurants;Delis           True     794  \n",
       "3  Diners;Food;Restaurants;Delis           True     270  \n",
       "4  Diners;Food;Restaurants;Delis           True     863  "
      ]
     },
     "execution_count": 11,
     "metadata": {},
     "output_type": "execute_result"
    }
   ],
   "source": [
    "# Add column for review length\n",
    "yelp_data['length'] = yelp_data['text'].apply(len)\n",
    "yelp_data.head()"
   ]
  },
  {
   "cell_type": "code",
   "execution_count": 12,
   "metadata": {},
   "outputs": [
    {
     "data": {
      "text/plain": [
       "<seaborn.axisgrid.FacetGrid at 0x2005f887358>"
      ]
     },
     "execution_count": 12,
     "metadata": {},
     "output_type": "execute_result"
    },
    {
     "data": {
      "image/png": "[encoded data removed]",
      "text/plain": [
       "<Figure size 1080x216 with 5 Axes>"
      ]
     },
     "metadata": {
      "needs_background": "light"
     },
     "output_type": "display_data"
    }
   ],
   "source": [
    "# Review length vs stars\n",
    "graph = seaborn.FacetGrid(data=yelp_data,col='stars_x')\n",
    "graph.map(plt.hist,'length',bins=50,color='blue')"
   ]
  },
  {
   "cell_type": "markdown",
   "metadata": {},
   "source": [
    "These charts provide key insight into using the length of a review as a feature. It shows that review counts follow a logarithmic distribution for each star rating, and that most reviews fall between 0-1000 in length for each star rating. "
   ]
  },
  {
   "cell_type": "code",
   "execution_count": 13,
   "metadata": {},
   "outputs": [
    {
     "data": {
      "text/plain": [
       "<matplotlib.axes._subplots.AxesSubplot at 0x2005fba8908>"
      ]
     },
     "execution_count": 13,
     "metadata": {},
     "output_type": "execute_result"
    },
    {
     "data": {
      "image/png": "[encoded data removed]",
      "text/plain": [
       "<Figure size 432x288 with 1 Axes>"
      ]
     },
     "metadata": {
      "needs_background": "light"
     },
     "output_type": "display_data"
    }
   ],
   "source": [
    "seaborn.boxplot(x='stars_x', y='length', data=yelp_data)"
   ]
  },
  {
   "cell_type": "markdown",
   "metadata": {},
   "source": [
    "It seems as though the star ratings have approximately the same mean and quartile review lengths associated with them, despite many outliers across the board, and especially amongst 5 star reviews. Therefore, text length might not be a particularly useful feature to consider in our classification model, and we will proceed by using review sentiment as our primary feature. "
   ]
  },
  {
   "cell_type": "code",
   "execution_count": 14,
   "metadata": {},
   "outputs": [
    {
     "name": "stdout",
     "output_type": "stream",
     "text": [
      "(1999382, 15)\n"
     ]
    }
   ],
   "source": [
    "# Subset data for classification: 1 star - Bad review, 3 stars - Neutral Review, 5 stars - Good review\n",
    "yelp_data_classes = yelp_data[(yelp_data['stars_x']==1) | (yelp_data['stars_x']==3) | (yelp_data['stars_x']==5)]\n",
    "yelp_data_classes.head()\n",
    "print(yelp_data_classes.shape)"
   ]
  },
  {
   "cell_type": "code",
   "execution_count": 15,
   "metadata": {},
   "outputs": [],
   "source": [
    "# Cleaning: Remove stopwords, punctuation, and word stems\n",
    "ps = PorterStemmer() \n",
    "\n",
    "def text_process(text):\n",
    "    cleaned_words = []\n",
    "    words = word_tokenize(text)\n",
    "    for w in words: \n",
    "        w = re.sub(r'[^\\w\\s]','',w) # punctuation\n",
    "        w = w.replace(',', '') # extra commas\n",
    "        cleaned_words.append(ps.stem(w)) # word stems\n",
    "    cleaned_words = filter(None, cleaned_words) # empty strings\n",
    "    return [word for word in cleaned_words if word.lower() not in stopwords.words('english')] # stopwords"
   ]
  },
  {
   "cell_type": "code",
   "execution_count": 96,
   "metadata": {},
   "outputs": [
    {
     "name": "stdout",
     "output_type": "stream",
     "text": [
      "0    Super simple place but amazing nonetheless. It...\n",
      "1    *The shop was featured on Mind of a Chef with ...\n",
      "2    As its name suggests, Wilensky's is a lunch co...\n",
      "3    Stopped by for the Wilensky's Special, loved i...\n",
      "5    Went here while visiting Montreal. It was grea...\n",
      "Name: text, dtype: object\n",
      "0    1\n",
      "1    1\n",
      "2    1\n",
      "3    1\n",
      "5    1\n",
      "Name: is_open, dtype: int64\n"
     ]
    }
   ],
   "source": [
    "# Seperate the dataset into X and Y for prediction - using 5000 obs. to speed up runtime for now\n",
    "x = yelp_data_classes['text'][0:5000]\n",
    "y = yelp_data_classes['is_open'][0:5000]\n",
    "print(x.head())\n",
    "print(y.head())"
   ]
  },
  {
   "cell_type": "code",
   "execution_count": 97,
   "metadata": {},
   "outputs": [
    {
     "name": "stdout",
     "output_type": "stream",
     "text": [
      "14432\n"
     ]
    }
   ],
   "source": [
    "# Vectorize while cleaning\n",
    "vector = CountVectorizer(analyzer=text_process).fit(x)\n",
    "print(len(vector.vocabulary_))"
   ]
  },
  {
   "cell_type": "code",
   "execution_count": 100,
   "metadata": {},
   "outputs": [
    {
     "name": "stdout",
     "output_type": "stream",
     "text": [
      "Shape of the matrix:  (5000, 14432)\n",
      "Non-Zero occurrences:  265417\n",
      "Density of the matrix =  0.3678173503325942\n"
     ]
    }
   ],
   "source": [
    "# Sparse Matrix\n",
    "x = vector.transform(x)\n",
    "print(\"Shape of the matrix: \", x.shape)\n",
    "print(\"Non-Zero occurrences: \",x.nnz)\n",
    "density = (x.nnz/(x.shape[0]*x.shape[1]))*100\n",
    "print(\"Density of the matrix = \",density)"
   ]
  },
  {
   "cell_type": "code",
   "execution_count": 19,
   "metadata": {},
   "outputs": [],
   "source": [
    "x_train,x_test,y_train,y_test = train_test_split(x,y,test_size=0.2,random_state=42)"
   ]
  },
  {
   "cell_type": "code",
   "execution_count": 29,
   "metadata": {
    "collapsed": true
   },
   "outputs": [
    {
     "ename": "NameError",
     "evalue": "name 'grid_search' is not defined",
     "output_type": "error",
     "traceback": [
      "\u001b[1;31m---------------------------------------------------------------------------\u001b[0m",
      "\u001b[1;31mNameError\u001b[0m                                 Traceback (most recent call last)",
      "\u001b[1;32m<ipython-input-29-e703db4905db>\u001b[0m in \u001b[0;36m<module>\u001b[1;34m\u001b[0m\n\u001b[0;32m      5\u001b[0m \u001b[0mgrid_search_svc\u001b[0m \u001b[1;33m=\u001b[0m \u001b[0mGridSearchCV\u001b[0m\u001b[1;33m(\u001b[0m\u001b[0mSVC\u001b[0m\u001b[1;33m(\u001b[0m\u001b[0mkernel\u001b[0m\u001b[1;33m=\u001b[0m\u001b[1;34m'rbf'\u001b[0m\u001b[1;33m)\u001b[0m\u001b[1;33m,\u001b[0m \u001b[0mparam_grid\u001b[0m\u001b[1;33m,\u001b[0m \u001b[0mcv\u001b[0m\u001b[1;33m=\u001b[0m\u001b[1;36m5\u001b[0m\u001b[1;33m)\u001b[0m\u001b[1;33m\u001b[0m\u001b[1;33m\u001b[0m\u001b[0m\n\u001b[0;32m      6\u001b[0m \u001b[0mgrid_search_svc\u001b[0m\u001b[1;33m.\u001b[0m\u001b[0mfit\u001b[0m\u001b[1;33m(\u001b[0m\u001b[0mx_train\u001b[0m\u001b[1;33m,\u001b[0m \u001b[0my_train\u001b[0m\u001b[1;33m)\u001b[0m\u001b[1;33m\u001b[0m\u001b[1;33m\u001b[0m\u001b[0m\n\u001b[1;32m----> 7\u001b[1;33m \u001b[0mprint\u001b[0m\u001b[1;33m(\u001b[0m\u001b[0mgrid_search\u001b[0m\u001b[1;33m.\u001b[0m\u001b[0mbest_params_\u001b[0m\u001b[1;33m)\u001b[0m\u001b[1;33m\u001b[0m\u001b[1;33m\u001b[0m\u001b[0m\n\u001b[0m",
      "\u001b[1;31mNameError\u001b[0m: name 'grid_search' is not defined"
     ]
    }
   ],
   "source": [
    "Cs = [0.001, 0.01, 0.1, 1, 10]\n",
    "gammas = [0.001, 0.01, 0.1, 1]\n",
    "param_grid = {'C': Cs, 'gamma' : gammas}\n",
    "grid_search_svc = GridSearchCV(SVC(kernel='rbf'), param_grid, cv=5)\n",
    "grid_search_svc.fit(x_train, y_train)"
   ]
  },
  {
   "cell_type": "code",
   "execution_count": 35,
   "metadata": {},
   "outputs": [
    {
     "name": "stdout",
     "output_type": "stream",
     "text": [
      "{'C': 10, 'gamma': 0.001}\n"
     ]
    }
   ],
   "source": [
    "# Optimal Parameters for SVM\n",
    "print(grid_search_svc.best_params_)"
   ]
  },
  {
   "cell_type": "code",
   "execution_count": 102,
   "metadata": {},
   "outputs": [
    {
     "name": "stdout",
     "output_type": "stream",
     "text": [
      "SVM Results:\n",
      "Cross Validation Scores:  [0.9525593  0.95625    0.955      0.95375    0.96370463]\n",
      "Avg Cross Validation Score:  0.9562527863324787\n",
      "AUC-ROC:  0.9059594524793388\n",
      "\n",
      "Confusion Matrix for Support Vector Machine:\n",
      "[[  6  26]\n",
      " [  1 967]]\n",
      "              precision    recall  f1-score   support\n",
      "\n",
      "           0       0.86      0.19      0.31        32\n",
      "           1       0.97      1.00      0.99       968\n",
      "\n",
      "   micro avg       0.97      0.97      0.97      1000\n",
      "   macro avg       0.92      0.59      0.65      1000\n",
      "weighted avg       0.97      0.97      0.96      1000\n",
      "\n",
      "Metrics:\n",
      "Accuracy:  0.973\n",
      "Precision:  0.973816717019134\n",
      "Recall:  0.9989669421487604\n",
      "F1-Score:  0.9862315145334014\n"
     ]
    }
   ],
   "source": [
    "# Compute Area Under the Receiver Operating Characteristic Curve (ROC AUC) from prediction scores.\n",
    "optimal_svm = SVC(random_state=42, C = grid_search_svc.best_params_['C'], gamma = grid_search_svc.best_params_['gamma'])\n",
    "y_score = optimal_svm.fit(x_train, y_train).decision_function(x_test)\n",
    "# Compute Cross Validation Scores\n",
    "cv_results = cross_validate(optimal_svm, x_train, y_train, cv=5, return_train_score=False)\n",
    "print(\"SVM Results:\")\n",
    "print(\"Cross Validation Scores: \", cv_results['test_score'])\n",
    "print(\"Avg Cross Validation Score: \", sum(cv_results['test_score'])/5)\n",
    "# Other Metrics\n",
    "y_predict = optimal_svm.fit(x_train, y_train).predict(x_test)\n",
    "print(\"AUC-ROC: \", roc_auc_score(y_test, y_score))\n",
    "print(\"\\nConfusion Matrix for Support Vector Machine:\")\n",
    "print(confusion_matrix(y_test,y_predict))\n",
    "print(classification_report(y_test,y_predict))\n",
    "print(\"Metrics:\")\n",
    "print(\"Accuracy: \", accuracy_score(y_test, y_predict))\n",
    "print(\"Precision: \", precision_score(y_test, y_predict))\n",
    "print(\"Recall: \", recall_score(y_test, y_predict))\n",
    "print(\"F1-Score: \", f1_score(y_test, y_predict))"
   ]
  },
  {
   "cell_type": "markdown",
   "metadata": {},
   "source": [
    "For classification with SVM, we will subset the data into bad reviews (1 star), neutral reviews (3 stars), and good reviews (5 stars). The first step is to clean the data by removing stop-words, punctuation, and word stems as defined by conventional NLP practices and the standard NLTK package in Python. We will be using a bag-of-words approach with vectorized unigrams (single words) to train our SVM model. After vectorizing the reviews, we obtained a sparse matrix with a shape of (5000, 14432) and density of 0.368. We split our word vectors into a training set of 80% of the data and a testing set of 20% of the data. After fitting the SVM algorithm on our training data and grid searching for optimal hyperparameters, we obtained impressive benchmark results when predicting restaurant closure from testing data."
   ]
  },
  {
   "cell_type": "code",
   "execution_count": 88,
   "metadata": {},
   "outputs": [
    {
     "data": {
      "image/png": "[encoded data removed]",
      "text/plain": [
       "<Figure size 432x288 with 1 Axes>"
      ]
     },
     "metadata": {
      "needs_background": "light"
     },
     "output_type": "display_data"
    }
   ],
   "source": [
    "# ROC Curve for SVM\n",
    "# Calculate the fpr and tpr for all thresholds of the classification\n",
    "optimal_svm = SVC(random_state=42, C = grid_search_svc.best_params_['C'], gamma = grid_search_svc.best_params_['gamma'], probability = True)\n",
    "probs = optimal_svm.fit(x_train, y_train).predict_proba(x_test)\n",
    "preds = probs[:,1]\n",
    "fpr, tpr, threshold = roc_curve(y_test, preds)\n",
    "roc_auc = metrics.auc(fpr, tpr)\n",
    "\n",
    "plt.title('Receiver Operating Characteristic for SVM')\n",
    "plt.plot(fpr, tpr, 'b', label = 'AUC = %0.2f' % roc_auc)\n",
    "plt.legend(loc = 'lower right')\n",
    "plt.plot([0, 1], [0, 1],'r--')\n",
    "plt.xlim([0, 1])\n",
    "plt.ylim([0, 1])\n",
    "plt.ylabel('True Positive Rate')\n",
    "plt.xlabel('False Positive Rate')\n",
    "plt.show()"
   ]
  },
  {
   "cell_type": "markdown",
   "metadata": {},
   "source": [
    "For comparison with our SVM model, we decided to train classic Naive Bayes variants used in text classification (Multinomial, Complement, Bernoulli) and obtained similar results. However, our SVM model outperformed these variants in accuracy and f1-score."
   ]
  },
  {
   "cell_type": "code",
   "execution_count": 82,
   "metadata": {},
   "outputs": [
    {
     "name": "stdout",
     "output_type": "stream",
     "text": [
      "Naive Bayes (Multinomial) Results:\n",
      "Accuracy:  0.964\n",
      "Precision:  0.9907024793388429\n",
      "Recall:  0.9726166328600405\n",
      "F1-Score:  0.9815762538382804\n",
      "\n",
      "Naive Bayes (Complement) Results:\n",
      "Accuracy:  0.964\n",
      "Precision:  0.9886363636363636\n",
      "Recall:  0.9745417515274949\n",
      "F1-Score:  0.9815384615384616\n",
      "\n",
      "Naive Bayes (Bernoulli) Results:\n",
      "Accuracy:  0.934\n",
      "Precision:  0.9628099173553719\n",
      "Recall:  0.9688149688149689\n",
      "F1-Score:  0.9658031088082901\n"
     ]
    }
   ],
   "source": [
    "# Naive Bayes - Multinomial, Complement, Bernoulli - classic naive Bayes variants used in text classification \n",
    "naive_multi = naive_bayes.MultinomialNB()\n",
    "naive_compl = naive_bayes.ComplementNB()\n",
    "naive_bern = naive_bayes.BernoulliNB()\n",
    "naive_multi.fit(x_train,y_train)\n",
    "naive_compl.fit(x_train,y_train)\n",
    "naive_bern.fit(x_train,y_train)\n",
    "\n",
    "predictions_multi = naive_multi.predict(x_test)\n",
    "predictions_compl = naive_compl.predict(x_test)\n",
    "predictions_bern = naive_bern.predict(x_test)\n",
    "\n",
    "print(\"Naive Bayes (Multinomial) Results:\")\n",
    "print(\"Accuracy: \",accuracy_score(predictions_multi, y_test))\n",
    "print(\"Precision: \",precision_score(predictions_multi, y_test))\n",
    "print(\"Recall: \",recall_score(predictions_multi, y_test))\n",
    "print(\"F1-Score: \",f1_score(predictions_multi, y_test))\n",
    "print(\"\\nNaive Bayes (Complement) Results:\")\n",
    "print(\"Accuracy: \",accuracy_score(predictions_compl, y_test))\n",
    "print(\"Precision: \",precision_score(predictions_compl, y_test))\n",
    "print(\"Recall: \",recall_score(predictions_compl, y_test))\n",
    "print(\"F1-Score: \",f1_score(predictions_compl, y_test))\n",
    "print(\"\\nNaive Bayes (Bernoulli) Results:\")\n",
    "print(\"Accuracy: \",accuracy_score(predictions_bern, y_test))\n",
    "print(\"Precision: \",precision_score(predictions_bern, y_test))\n",
    "print(\"Recall: \",recall_score(predictions_bern, y_test))\n",
    "print(\"F1-Score: \",f1_score(predictions_bern, y_test))"
   ]
  }
 ],
 "metadata": {
  "kernelspec": {
   "display_name": "Python 3",
   "language": "python",
   "name": "python3"
  },
  "language_info": {
   "codemirror_mode": {
    "name": "ipython",
    "version": 3
   },
   "file_extension": ".py",
   "mimetype": "text/x-python",
   "name": "python",
   "nbconvert_exporter": "python",
   "pygments_lexer": "ipython3",
   "version": "3.7.1"
  }
 },
 "nbformat": 4,
 "nbformat_minor": 2
}
